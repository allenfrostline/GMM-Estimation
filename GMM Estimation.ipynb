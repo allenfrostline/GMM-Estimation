{
 "cells": [
  {
   "cell_type": "markdown",
   "metadata": {},
   "source": [
    "# <center>GMM Estimation of an ARMA(2,1) Model</center>\n",
    "\n",
    "### <center>Allen Wang</center>\n",
    "\n",
    "## Model Description\n",
    "\n",
    "Assume that now we have already determined the form of a time series model as follows\n",
    "\n",
    "$$\n",
    "X_t=\\phi_1X_{t-1}+\\phi_2X_{t-2}+\\epsilon_t+\\theta_1\\epsilon_{t-1},\\quad \\epsilon_t\\sim(0,1)\n",
    "$$"
   ]
  },
  {
   "cell_type": "markdown",
   "metadata": {},
   "source": [
    "with at least 3 **kinds** of moment conditions given by\n",
    "\n",
    "  1. The expectation residual: $$E(\\epsilon_t)=0$$\n",
    "\n",
    "  2. The variance of the residual: $$E(\\epsilon_t^2)=1$$\n",
    "    \n",
    "  3. The covariance between $\\epsilon_s$ and $\\epsilon_t$ ($\\forall s<t$): $$Cov(\\epsilon_s\\epsilon_t)=0,\\quad\\forall s<t$$"
   ]
  },
  {
   "cell_type": "markdown",
   "metadata": {},
   "source": [
    "Now, assume we have a observed sample $x$ of the population $T$. Let the sample moment matrix be\n",
    "\n",
    "$$\n",
    "g(para, x)=\n",
    "\\begin{bmatrix}\n",
    "g_1(para,x_1) & g_1(para,x_2) & g_1(para,x_T)\\\\\n",
    "g_2(para,x_1) & g_2(para,x_2) & g_2(para,x_T)\\\\\n",
    "\\vdots        & \\vdots        & \\vdots\\\\\n",
    "g_k(para,x_1) & g_k(para,x_2) & g_k(para,x_T)\\\\\n",
    "\\end{bmatrix}\n",
    "$$\n",
    "\n",
    "where $k$ is the number of moment conditions. We define the sample mean of $g$ as $g_m(para, x_t)$:\n",
    "\n",
    "$$\n",
    "g_m(para)=\\dfrac{1}{T}\\sum_{t=1}^Tg(para,x_t)\n",
    "$$"
   ]
  },
  {
   "cell_type": "markdown",
   "metadata": {},
   "source": [
    "Now, starting with the weight matrix $W_1=\\mathbf{I}_{k\\times k}$, we can proceed the iterated GMM estimation method as follows:\n",
    "\n",
    "  1. Minimize the objective function\n",
    "  \n",
    "  $$\n",
    "  J(para)=Tg_m(para)^{\\prime}W_ng_m(para)\n",
    "  $$\n",
    "  \n",
    "  and then solve for $\\widehat{para}_n$, that is\n",
    "  \n",
    "  $$\n",
    "  \\widehat{para}_n=\\underset{para}{\\text{argmin }}J\n",
    "  $$\n",
    "  \n",
    "  2. Recompute $W_n$ based on the sample covariance of $g(\\widehat{para}_n,x)$\n",
    "  \n",
    "  $$\n",
    "  S_n=\\dfrac{1}{T}\\sum_{t=1}^Tg(\\widehat{para}_n,x)g(\\widehat{para}_n,x)^{\\prime}\n",
    "  $$\n",
    "  \n",
    "  $$\n",
    "  W_{n+1}=S_n^{-1}\n",
    "  $$\n",
    "  \n",
    "  3. Repeat step 1 and 2 until\n",
    "  \n",
    "  $$\n",
    "  \\left\\Vert\\widehat{para}_{n+1}-\\widehat{para}_n\\right\\Vert<\\delta\n",
    "  $$\n",
    "  \n",
    "  where $\\delta$ is a given positive value that is very small. We may also terminate the iteration when reach an interation threshold."
   ]
  },
  {
   "cell_type": "markdown",
   "metadata": {},
   "source": [
    "## Data Simulation\n",
    "\n",
    "First we need to import some necessary Python libraries, including\n",
    "- **numpy** for massive linear operations based on C,\n",
    "- **matplotlib** for plotting,\n",
    "- **scipy** for optimizing, and\n",
    "- **statsmodels** in which there're various built-in statistical models."
   ]
  },
  {
   "cell_type": "code",
   "execution_count": 2,
   "metadata": {
    "collapsed": false
   },
   "outputs": [],
   "source": [
    "import numpy as np\n",
    "import matplotlib.pyplot as plt\n",
    "from scipy.optimize import minimize\n",
    "import statsmodels.api as sm\n",
    "from time import time\n",
    "plt.rcParams['figure.figsize'] = (10,6)"
   ]
  },
  {
   "cell_type": "markdown",
   "metadata": {},
   "source": [
    "Here we define a function called **simulate**, which as its name implies, simulates a time series data determined by parameters $\\phi_1$, $\\phi_2$ and $\\theta_1$. The initial values are given by **init**. The first 1/11 of the data are thrown away as burn-in, so that at last the sample size would be **T**.  There is a built-in parameter called **plot** which is set **True** or **1** to plot the graph of the data, and **False** or **0** otherwise."
   ]
  },
  {
   "cell_type": "code",
   "execution_count": 3,
   "metadata": {
    "collapsed": false
   },
   "outputs": [],
   "source": [
    "def simulate(T, phi, theta, init, plot=0):\n",
    "    T = int(T)\n",
    "    T_ = int(T * 1.1) # we will drop the first 1/11 observations here as burn-in\n",
    "    X = np.ndarray(T_)\n",
    "    X[0] = init[0]\n",
    "    e = np.random.normal(0, 1, T_)\n",
    "    for t in range(max(len(phi), len(theta)), T_):\n",
    "        X[t] = sum([phi[i]*X[t-i-1] for i in range(len(phi))]) + \\\n",
    "               e[t] + \\\n",
    "               sum([theta[i]*e[t-i-1] for i in range(len(theta))])\n",
    "    X = X[T_ - T:]    # burn-in\n",
    "    if plot:          # plot the raw data\n",
    "        plt.close()\n",
    "        fig = plt.figure()\n",
    "        \n",
    "        ax1 = fig.add_subplot(211)\n",
    "        ax1.set_xlim([0,T])\n",
    "        ax1.plot(X, 'k-',lw=0.5)\n",
    "        ax1.set_xlabel('t')\n",
    "        ax1.set_ylabel('x')\n",
    "        \n",
    "        ax2 = fig.add_subplot(212)\n",
    "        ax2.hist(X, color='#444444', bins=50)\n",
    "        ax2.set_xlabel('x')\n",
    "        ax2.set_ylabel('observations')\n",
    "        \n",
    "        plt.tight_layout()\n",
    "        plt.show()\n",
    "    return X"
   ]
  },
  {
   "cell_type": "markdown",
   "metadata": {},
   "source": [
    "Now we can set the parameters and store them in separate lists."
   ]
  },
  {
   "cell_type": "code",
   "execution_count": null,
   "metadata": {
    "collapsed": false
   },
   "outputs": [],
   "source": [
    "# true parameters, initial entries and sample size\n",
    "phi   = [0.2, 0.05]\n",
    "theta = [0.8]\n",
    "para  = np.array(phi + theta)\n",
    "init  = [1, 1]\n",
    "T     = 20000\n",
    "T_    = T/4"
   ]
  },
  {
   "cell_type": "markdown",
   "metadata": {},
   "source": [
    "We generate a time series dataset of size 5T/4, yet again we \"set aside\" the last T/4, so that we may compare the prediction of our estimation with the true data."
   ]
  },
  {
   "cell_type": "code",
   "execution_count": 54,
   "metadata": {
    "collapsed": false,
    "scrolled": false
   },
   "outputs": [
    {
     "data": {
      "image/png": "[encoded data removed]",
      "text/plain": [
       "<matplotlib.figure.Figure at 0x1155716d8>"
      ]
     },
     "metadata": {},
     "output_type": "display_data"
    }
   ],
   "source": [
    "x = simulate(T + T_, phi, theta, init, plot=1)\n",
    "x_true = x.copy()\n",
    "x = x[:T] # We'll only use the first T observations to estimate parameters"
   ]
  },
  {
   "cell_type": "markdown",
   "metadata": {},
   "source": [
    "## GMM Estimation"
   ]
  },
  {
   "cell_type": "markdown",
   "metadata": {},
   "source": [
    "Then we define a class named **gmm**, who has 2 major methods, namely **fit** and **result**. When we create an object (or model) of the class **gmm**, we initialize it with moment condition functions **momn** as well the jacobian of their mean w.r.t. the parameter vector, **deriv_momn**. When fitting our model to the data, we use the iterated gmm method, i.e. we alternately compute $\\widehat{para}_n$ and weight matrix $W_n$, the major step of which undertaken by scipy's **minimize** function, a brutal minimization method (with SLSQP method using jacobian matrix). The iteration terminates either when the square of the Euclidean distance between two estimators converges within a given value, $\\delta$, or it reaches an iteration threshold (set at 10 here). \n",
    "\n",
    "Remark 1: when iteration threshold is set at 2, this is immediately a 2-step GMM.\n",
    "\n",
    "Remark 2: we here also estimate the asymptotic variance when fitting to the data. The derivation of this asymptotic variance estimation will be further discussed later."
   ]
  },
  {
   "cell_type": "code",
   "execution_count": 55,
   "metadata": {
    "collapsed": false
   },
   "outputs": [],
   "source": [
    "class gmm():\n",
    "    \n",
    "    def __init__(self, momn, deriv_momn):\n",
    "        self.n_momn     = len(momn)                                     # number of moment conditions\n",
    "        self.n_para     = len(deriv_momn)                               # number of parameters\n",
    "        self.momn       = momn                                          # moment conditions\n",
    "        self.deriv_momn = deriv_momn                                    # derivative of the moment conditions\n",
    "        self.para       = 2*np.random.rand(self.n_para)-1               # parameters, initialized at random\n",
    "    \n",
    "    def fit(self, x, plot=0):\n",
    "        g  = lambda para: np.matrix([m(para, x) for m in self.momn])    # g is not a vector, but a matrix of the shape k * T\n",
    "        gm = lambda para: np.mean(g(para), axis=1)                      # gm is a column vector\n",
    "        J  = lambda para: np.asscalar(T * gm(para).T * W * gm(para))    # J is a scalar\n",
    "        S  = lambda para: g(para) * g(para).T / T                       # S is the covariance matrix\n",
    "        W  = np.identity(self.n_momn)                                   # W is the inverse of S\n",
    "        jacobian   = lambda para: np.asarray(2 * T * gm(para).T * W * np.matrix([dm(para, x) for dm in self.deriv_momn]).T)\n",
    "        iterations = 2                                                  # set 2 to make it a 2-step GMM\n",
    "        \n",
    "        if plot==1:\n",
    "            print_len  = 14 * self.n_para + 4\n",
    "            print(' '*((print_len-13)//2)+'GMM Iteration'+' '*((print_len-13)//2))\n",
    "            print('='*print_len)\n",
    "            print('No. Observations: {}'.format(T))\n",
    "            print('='*print_len)\n",
    "            print('Iter      {}'.format('        '.join(['para_{}'.format(i+1) for i in range(self.n_para)])))\n",
    "            print('-'*print_len)\n",
    "        \n",
    "        cons = [{'type':'ineq','fun':lambda t: (1+t[i])*(1-t[i])} for i in range(self.n_para)]\n",
    "        for i in range(iterations):\n",
    "            temp = minimize(J, 2*np.random.rand(self.n_para)-1, method='SLSQP', constraints=cons, jac=jacobian).x\n",
    "            temp /= max(np.abs(temp).max(), 1)\n",
    "            delta = ((temp - self.para) ** 2).sum()\n",
    "            if plot==1: print('\\r{:>4}   {}   ({})'.format(i+1, '   '.join(['{: .4e}'.format(i) for i in temp]), delta), end='')\n",
    "            if delta < 1e-10 or np.nan in temp: break\n",
    "            self.para = temp\n",
    "            W = np.linalg.inv(S(self.para))\n",
    "        \n",
    "        if plot == 1:\n",
    "            print('\\r{:>4}   {}   ({})'.format(i+1, '   '.join(['{: .4e}'.format(i) for i in self.para]), delta))\n",
    "            print('-'*int(np.floor((print_len-3)/2))+'end'+'-'*int(np.ceil((print_len-3)/2)))\n",
    "        \n",
    "        g_star = lambda para: g(para) - gm(para)\n",
    "        S_     = lambda para: g_star(para) * g_star(para).T / T\n",
    "        avar   = np.linalg.inv(np.matrix([dm(self.para, x) for dm in self.deriv_momn]) * \\\n",
    "                               np.linalg.inv(S_(self.para)) * \\\n",
    "                               np.matrix([dm(self.para, x) for dm in self.deriv_momn]).T).diagonal().tolist()[0]\n",
    "        \n",
    "        self.J = J\n",
    "        self.x = x\n",
    "        self.avar = avar\n",
    "                        \n",
    "    def result(self, para_true):\n",
    "        print('{:^46}'.format('Iterated GMM Results'))\n",
    "        print('='*46)\n",
    "        print('Kind      {}'.format('        '.join(['para_{}'.format(i+1) for i in range(self.n_para)])))\n",
    "        print('-'*46)\n",
    "        print('Estm   {}'.format('   '.join(['{: .4e}'.format(i) for i in self.para])))\n",
    "        print('True   {}'.format('   '.join(['{: .4e}'.format(i) for i in para_true])))\n",
    "        print('-'*46)\n",
    "        print('Avar   '+'   '.join('{: .4e}'.format(v) for v in self.avar))\n",
    "        print('-'*46)"
   ]
  },
  {
   "cell_type": "markdown",
   "metadata": {},
   "source": [
    "Below we define the moment condition functions and the derivatives of their mean."
   ]
  },
  {
   "cell_type": "code",
   "execution_count": 56,
   "metadata": {
    "collapsed": true
   },
   "outputs": [],
   "source": [
    "momn = [lambda para, x: (x[4:] - para[0] * x[3:-1] - para[1] * x[2:-2]),                                                               # expectation\n",
    "        lambda para, x: (x[4:] - para[0] * x[3:-1] - para[1] * x[2:-2])**2 - (1 + para[2]**2),                                         # variance\n",
    "        lambda para, x: (x[4:] - para[0] * x[3:-1] - para[1] * x[2:-2]) * (x[3:-1] - para[0] * x[2:-2] - para[1] * x[1:-3]) - para[2], # covariance of epsilon_t and epsilon_{t-1}\n",
    "        lambda para, x: (x[4:] - para[0] * x[3:-1] - para[1] * x[2:-2]) * (x[2:-2] - para[0] * x[1:-3] - para[1] * x[0:-4]),           # covariance of epsilon_t and epsilon_{t-2}\n",
    "       ]\n",
    "\n",
    "deriv_momn = [lambda para, x: np.array([(-x[3:-1]).mean(),\n",
    "                                        (-2 * x[3:-1] * (x[4:] - para[0] * x[3:-1] - para[1] * x[2:-2])).mean(),\n",
    "                                        (-x[3:-1] * (x[3:-1] - para[0] * x[2:-2] - para[1] * x[1:-3]) - x[2:-2] * (x[4:] - para[0] * x[3:-1] - para[1] * x[2:-2])).mean(),\n",
    "                                        (-x[3:-1] * (x[2:-2] - para[0] * x[1:-3] - para[1] * x[0:-4]) - x[1:-3] * (x[4:] - para[0] * x[3:-1] - para[1] * x[2:-2])).mean(),\n",
    "                                       ]),\n",
    "              lambda para, x: np.array([(-x[2:-2]).mean(),\n",
    "                                        (-2 * x[2:-2] * (x[4:] - para[0] * x[3:-1] - para[1] * x[2:-2])).mean(),\n",
    "                                        (-x[2:-2] * (x[3:-1] - para[0] * x[2:-2] - para[1] * x[1:-3]) - x[1:-3] * (x[4:] - para[0] * x[3:-1] - para[1] * x[2:-2])).mean(),\n",
    "                                        (-x[2:-2] * (x[2:-2] - para[0] * x[1:-3] - para[1] * x[0:-4]) - x[0:-4] * (x[4:] - para[0] * x[3:-1] - para[1] * x[2:-2])).mean(),\n",
    "                                       ]),\n",
    "              lambda para, x: np.array([0,\n",
    "                                        -2 * para[2],\n",
    "                                        -1,\n",
    "                                        0,\n",
    "                                       ])\n",
    "             ]"
   ]
  },
  {
   "cell_type": "markdown",
   "metadata": {},
   "source": [
    "Initialize the gmm model with moment condition functions and the respective partial derivatives, fit it to x, and then print out the result."
   ]
  },
  {
   "cell_type": "code",
   "execution_count": 57,
   "metadata": {
    "collapsed": false,
    "scrolled": false
   },
   "outputs": [
    {
     "name": "stdout",
     "output_type": "stream",
     "text": [
      "                GMM Iteration                \n",
      "==============================================\n",
      "No. Observations: 20000\n",
      "==============================================\n",
      "Iter      para_1        para_2        para_3\n",
      "----------------------------------------------\n",
      "\r",
      "   1    1.9095e-01    5.6259e-02    8.1452e-01   (0.8162425381938769)\r",
      "   2    1.9091e-01    5.6302e-02    8.1460e-01   (1.074866238949949e-08)\r",
      "   2    1.9091e-01    5.6302e-02    8.1460e-01   (1.074866238949949e-08)\n",
      "---------------------end----------------------\n",
      "\n",
      "             Iterated GMM Results             \n",
      "==============================================\n",
      "Kind      para_1        para_2        para_3\n",
      "----------------------------------------------\n",
      "Estm    1.9091e-01    5.6302e-02    8.1460e-01\n",
      "True    2.0000e-01    5.0000e-02    8.0000e-01\n",
      "----------------------------------------------\n",
      "Avar    1.9905e+01    9.1790e+00    2.5171e+01\n",
      "----------------------------------------------\n"
     ]
    }
   ],
   "source": [
    "model = gmm(momn, deriv_momn)\n",
    "model.fit(x, plot=1)\n",
    "print()\n",
    "model.result(para)"
   ]
  },
  {
   "cell_type": "markdown",
   "metadata": {},
   "source": [
    "As comparison, check the maximum likelihood estimation with the help of **statsmodels**."
   ]
  },
  {
   "cell_type": "code",
   "execution_count": 58,
   "metadata": {
    "collapsed": false,
    "scrolled": false
   },
   "outputs": [
    {
     "name": "stdout",
     "output_type": "stream",
     "text": [
      "                              ARMA Model Results                              \n",
      "==============================================================================\n",
      "Dep. Variable:                      y   No. Observations:                20000\n",
      "Model:                     ARMA(2, 1)   Log Likelihood              -28404.025\n",
      "Method:                       css-mle   S.D. of innovations              1.001\n",
      "Date:                Mon, 16 Jan 2017   AIC                          56818.050\n",
      "Time:                        11:55:46   BIC                          56857.568\n",
      "Sample:                             0   HQIC                         56830.979\n",
      "                                                                              \n",
      "==============================================================================\n",
      "                 coef    std err          z      P>|z|      [95.0% Conf. Int.]\n",
      "------------------------------------------------------------------------------\n",
      "const          0.0026      0.017      0.155      0.876        -0.031     0.036\n",
      "ar.L1.y        0.1983      0.010     20.706      0.000         0.179     0.217\n",
      "ar.L2.y        0.0512      0.009      5.672      0.000         0.033     0.069\n",
      "ma.L1.y        0.8050      0.006    128.761      0.000         0.793     0.817\n",
      "                                    Roots                                    \n",
      "=============================================================================\n",
      "                 Real           Imaginary           Modulus         Frequency\n",
      "-----------------------------------------------------------------------------\n",
      "AR.1            2.8895           +0.0000j            2.8895            0.0000\n",
      "AR.2           -6.7643           +0.0000j            6.7643            0.5000\n",
      "MA.1           -1.2423           +0.0000j            1.2423            0.5000\n",
      "-----------------------------------------------------------------------------\n"
     ]
    }
   ],
   "source": [
    "print(sm.tsa.ARMA(x, (len(phi), len(theta))).fit().summary())"
   ]
  },
  {
   "cell_type": "markdown",
   "metadata": {},
   "source": [
    "## Theoretical Asymptotic Variances of the GMM Estimator"
   ]
  },
  {
   "cell_type": "markdown",
   "metadata": {},
   "source": [
    "Some assumptions:\n",
    "\n",
    "$$\n",
    "e_t'g=\n",
    "\\begin{bmatrix}\n",
    "x_t - \\phi_1 x_{t-1} - \\phi_2 x_{t-2}\\\\\n",
    "(x_t - \\phi_1 x_{t-1} - \\phi_2 x_{t-2})^2 - (1 + \\theta_1^2)\\\\\n",
    "(x_t - \\phi_1 x_{t-1} - \\phi_2 x_{t-2})(x_{t-1} - \\phi_1 x_{t-2} - \\phi_2 x_{t-3}) - \\theta_1\\\\\n",
    "(x_t - \\phi_1 x_{t-1} - \\phi_2 x_{t-2})(x_{t-2} - \\phi_1 x_{t-3} - \\phi_2 x_{t-4})\\\\\n",
    "\\end{bmatrix}=\n",
    "\\begin{bmatrix}\n",
    "\\epsilon_t+\\theta_1\\epsilon_{t-1}\\\\\n",
    "(\\epsilon_t+\\theta_1\\epsilon_{t-1})^2-(1+\\theta_1^2)\\\\\n",
    "(\\epsilon_t+\\theta_1\\epsilon_{t-1})(\\epsilon_{t-1}+\\theta_1\\epsilon_{t-2})-\\theta_1\\\\\n",
    "(\\epsilon_t+\\theta_1\\epsilon_{t-1})(\\epsilon_{t-2}+\\theta_1\\epsilon_{t-3})\\\\\n",
    "\\end{bmatrix},\\quad\n",
    "E(e_t'g)=\n",
    "\\begin{bmatrix}\n",
    "0\\\\\n",
    "0\\\\\n",
    "0\\\\\n",
    "0\\\\\n",
    "\\end{bmatrix}.\n",
    "$$\n",
    "\n",
    "where $e_t\\in\\mathbb{R}^{T\\times1}$ is the $t^th$ basis vector. Hence, \n",
    "\n",
    "$$\n",
    "\\frac{\\partial e_t'g}{\\partial\\beta^{\\prime}}=\n",
    "\\begin{bmatrix}\n",
    "-x_{t-1} & -x_{t-2} & 0\\\\\n",
    "-2x_{t-1}(x_t-\\phi_1 x_{t-1}-\\phi_2 x_{t-2}) & -2x_{t-2}(x_t-\\phi_1 x_{t-1}-\\phi_2 x_{t-2}) & -2\\theta_1\\\\\n",
    "-x_{t-1}(x_{t-1} - \\phi_1 x_{t-2} - \\phi_2 x_{t-3}) - x_{t-2}(x_t - \\phi_1 x_{t-1} - \\phi_2 x_{t-2}) & -x_{t-2}(x_{t-1} - \\phi_1 x_{t-2} - \\phi_2 x_{t-3}) - x_{t-3}(x_t - \\phi_1 x_{t-1} - \\phi_2 x_{t-2}) & -1\\\\\n",
    "-x_{t-1}(x_{t-2} - \\phi_1 x_{t-3} - \\phi_2 x_{t-4}) - x_{t-3}(x_t - \\phi_1 x_{t-1} - \\phi_2 x_{t-2}) & -x_{t-2}(x_{t-2} - \\phi_1 x_{t-3} - \\phi_2 x_{t-4}) - x_{t-4}(x_t - \\phi_1 x_{t-1} - \\phi_2 x_{t-2}) & 0\\\\\n",
    "\\end{bmatrix}.\n",
    "$$\n",
    "\n",
    "and let\n",
    "\n",
    "$$\n",
    "G=E\\left(\\dfrac{\\partial e_t'g}{\\partial \\beta^{\\prime}}\\right)=\n",
    "\\begin{bmatrix}\n",
    "-\\mu & -\\mu & 0\\\\\n",
    "2\\phi_1\\gamma_0+2(\\phi_2-1)\\gamma_1 & 2\\phi_2\\gamma_0+2\\phi_1\\gamma_1-2\\gamma_2 & -2\\theta_1\\\\\n",
    "(\\phi_2-1)\\gamma_0+2\\phi_1\\gamma_1+(\\phi_2-1)\\gamma_2 & \\phi_1\\gamma_0+(2\\phi_2-1)\\gamma_1+\\phi_1\\gamma_2-\\gamma_3 & -1\\\\\n",
    "(\\phi_2-1)\\gamma_1+2\\phi_1\\gamma_2+(\\phi_2-1)\\gamma_3 & -\\gamma_0+\\phi_1\\gamma_1+2\\phi_2\\gamma_2+\\phi_1\\gamma_3-\\gamma_4 & 0\n",
    "\\end{bmatrix}.\n",
    "$$\n",
    "\n",
    "Since\n",
    "\n",
    "$$\n",
    "\\mu = 0\n",
    "$$\n",
    "\n",
    "and the autocovariances $\\gamma_i$ follows\n",
    "\n",
    "$$\n",
    "\\begin{cases}\n",
    "\\gamma_0-\\phi_1\\gamma_1-\\phi_2\\gamma_2=\\theta_1(\\phi_1+\\theta_1)+1\\\\\n",
    "\\phi_1\\gamma_0+(\\phi_2-1)\\gamma_1=-\\theta_1\\\\\n",
    "\\gamma_k = \\phi_1\\gamma_{k-1} + \\phi_2\\gamma_{k-2},\\quad k\\ge 2\n",
    "\\end{cases}\n",
    "$$\n",
    "\n",
    "we may derive $G$ at last. \n",
    "\n",
    "Also, the covariance matrix of $e_t'g$ is\n",
    "\n",
    "$$\n",
    "S=E(e_t'gg'e_t)=\n",
    "\\begin{bmatrix}\n",
    "1+\\theta_1^2    & 0                         & 0                        & 0\\\\\n",
    "0               & 2\\theta_1^4+4\\theta_1^2+2 & 2\\theta_1^3+2\\theta_1    & 0\\\\\n",
    "0               & 2\\theta_1^3+2\\theta_1     & \\theta_1^4+3\\theta_1^2+1 & \\theta_1^3+\\theta_1\\\\\n",
    "0               & 0                         & \\theta_1^3+\\theta_1      & \\theta_1^4+2\\theta_1^2+1\\\\\n",
    "\\end{bmatrix}\n",
    "$$\n",
    "\n",
    "Now with $G$ and $S$, since\n",
    "\n",
    "$$\n",
    "\\sqrt{T}\\ (\\widehat{para} - para)\\overset{d}{\\to}\\mathcal{N}(0,(G'S^{-1}G)^{-1}),\n",
    "$$\n",
    "\n",
    "we may derive the theoretical asymptotic variances of $\\sqrt{T}\\ \\widehat{para}$ as follows."
   ]
  },
  {
   "cell_type": "code",
   "execution_count": 59,
   "metadata": {
    "collapsed": false,
    "scrolled": false
   },
   "outputs": [
    {
     "data": {
      "text/plain": [
       "array([[ 0. ,  0. ,  0. ],\n",
       "       [-1.6, -0. , -1.6],\n",
       "       [-1.8, -0.8, -1. ],\n",
       "       [-1.2, -1.8,  0. ]])"
      ]
     },
     "execution_count": 59,
     "metadata": {},
     "output_type": "execute_result"
    }
   ],
   "source": [
    "mu = 0 # 345112251_00121231\n",
    "A = np.matrix([[1,      -phi[0],  -phi[1]],\n",
    "               [phi[0], phi[1]-1, 0],\n",
    "               [phi[1], phi[0],   -1]\n",
    "              ])\n",
    "B = np.matrix([[theta[0]*(phi[0]+theta[0])+1],\n",
    "               [-theta[0]],\n",
    "               [0]\n",
    "              ])\n",
    "y = np.linalg.inv(A)*B\n",
    "y0, y1, y2 = [np.asscalar(a) for a in y]\n",
    "y3 = phi[0]*y2 + phi[1]*y1\n",
    "y4 = phi[0]*y3 + phi[1]*y2\n",
    "G = np.matrix([[-mu,                                     -mu,                                    0],\n",
    "               [2*phi[0]*y0+2*(phi[1]-1)*y1,             2*phi[1]*y0+2*phi[0]*y1-2*y2,           -2*theta[0]],\n",
    "               [(phi[1]-1)*y0+2*phi[0]*y1+(phi[1]-1)*y2, phi[0]*y0+(2*phi[1]-1)*y1+phi[0]*y2-y3, -1],\n",
    "               [(phi[1]-1)*y1+2*phi[0]*y2+(phi[1]-1)*y3, -y0+phi[0]*y1+2*phi[1]*y2+phi[0]*y3-y4, 0]\n",
    "              ])\n",
    "G.round(2)"
   ]
  },
  {
   "cell_type": "code",
   "execution_count": 60,
   "metadata": {
    "collapsed": false,
    "scrolled": true
   },
   "outputs": [
    {
     "data": {
      "text/plain": [
       "array([[ 1.64,  0.  ,  0.  ,  0.  ],\n",
       "       [ 0.  ,  5.38,  2.62,  0.  ],\n",
       "       [ 0.  ,  2.62,  3.33,  1.31],\n",
       "       [ 0.  ,  0.  ,  1.31,  2.69]])"
      ]
     },
     "execution_count": 60,
     "metadata": {},
     "output_type": "execute_result"
    }
   ],
   "source": [
    "S = np.matrix([[1+theta[0]**2, 0,                             0,                           0],\n",
    "               [0,             2*theta[0]**4+4*theta[0]**2+2, 2*theta[0]**3+2*theta[0],    0],\n",
    "               [0,             2*theta[0]**3+2*theta[0],      theta[0]**4+3*theta[0]**2+1, theta[0]**3+theta[0]],\n",
    "               [0,             0,                             theta[0]**3+theta[0],        theta[0]**4+2*theta[0]**2+1],\n",
    "              ])\n",
    "S.round(2)"
   ]
  },
  {
   "cell_type": "code",
   "execution_count": 61,
   "metadata": {
    "collapsed": false,
    "scrolled": false
   },
   "outputs": [
    {
     "data": {
      "text/plain": [
       "[21.3174392361111, 9.980590277777774, 26.878064236111097]"
      ]
     },
     "execution_count": 61,
     "metadata": {},
     "output_type": "execute_result"
    }
   ],
   "source": [
    "np.linalg.inv(G.T*np.linalg.inv(S)*G).diagonal().tolist()[0]"
   ]
  },
  {
   "cell_type": "code",
   "execution_count": 62,
   "metadata": {
    "collapsed": false
   },
   "outputs": [
    {
     "data": {
      "text/plain": [
       "[19.905472617664184, 9.178999415080208, 25.170769966198534]"
      ]
     },
     "execution_count": 62,
     "metadata": {},
     "output_type": "execute_result"
    }
   ],
   "source": [
    "model.avar"
   ]
  },
  {
   "cell_type": "markdown",
   "metadata": {},
   "source": [
    "The estimated asymptotic variance is quite close to the theory."
   ]
  },
  {
   "cell_type": "markdown",
   "metadata": {},
   "source": [
    "## Monte Carlo Simulation"
   ]
  },
  {
   "cell_type": "markdown",
   "metadata": {},
   "source": [
    "Below we use the true parameters to simulate $N=10000$ times and each time we estimate a $\\widehat{para}_n$."
   ]
  },
  {
   "cell_type": "code",
   "execution_count": 63,
   "metadata": {
    "collapsed": false
   },
   "outputs": [
    {
     "name": "stdout",
     "output_type": "stream",
     "text": [
      "100% |░░░░░░░░░░░░░░░░░░░░░░░░░░░░░░░░░░░░░░░░░░░░░░░░░░░░░░░░░░░░░░░░░░░░░░░░░░░░░░░░░░░░░░░░░░░░░░░░░░░░| Finished."
     ]
    }
   ],
   "source": [
    "N = 1000\n",
    "para_mc = []\n",
    "with np.errstate(divide='ignore'):\n",
    "    start = time()\n",
    "    for i in range(N):\n",
    "        x_mc = simulate(T + T_, phi, theta, init)[:T]\n",
    "        model.fit(x_mc)\n",
    "        pct = i * 100 // N + 1\n",
    "        now = time()\n",
    "        eta = (100 - pct) / pct * (now - start)\n",
    "        print('\\r{:>3}% |'.format(pct)+'\\u2591'*pct+' '*(100-pct)+'| ETA: {} s'.format(int(eta)), end='')\n",
    "        para_mc.append(model.para)\n",
    "print('\\r100% |'+'\\u2591'*100+'| Finished.', end='')\n",
    "para_mc = np.array(para_mc)"
   ]
  },
  {
   "cell_type": "code",
   "execution_count": 64,
   "metadata": {
    "collapsed": false
   },
   "outputs": [
    {
     "data": {
      "image/png": "[encoded data removed]",
      "text/plain": [
       "<matplotlib.figure.Figure at 0x115759908>"
      ]
     },
     "metadata": {},
     "output_type": "display_data"
    }
   ],
   "source": [
    "plt.close()\n",
    "fig = plt.figure()\n",
    "ax1 = fig.add_subplot(311); ax1.hist(para_mc[:,0],bins=50,color='#444444',label='para[0]'); ax1.legend()\n",
    "ax2 = fig.add_subplot(312); ax2.hist(para_mc[:,1],bins=50,color='#444444',label='para[1]'); ax2.legend()\n",
    "ax3 = fig.add_subplot(313); ax3.hist(para_mc[:,2],bins=50,color='#444444',label='para[2]'); ax3.legend()\n",
    "plt.tight_layout()\n",
    "plt.show()"
   ]
  },
  {
   "cell_type": "code",
   "execution_count": 65,
   "metadata": {
    "collapsed": false,
    "scrolled": true
   },
   "outputs": [
    {
     "data": {
      "text/plain": [
       "[4.422402990203701, 2.9904249354938632, 8.796234771820194]"
      ]
     },
     "execution_count": 65,
     "metadata": {},
     "output_type": "execute_result"
    }
   ],
   "source": [
    "(para_mc.var(axis=0)*T).tolist()`"
   ]
  },
  {
   "cell_type": "markdown",
   "metadata": {},
   "source": [
    "As we can see, the sample variance of the Monte Carlo simulated distribution of our estimator, is significantly smaller than the theoretical one. This should be a problem."
   ]
  }
 ],
 "metadata": {
  "anaconda-cloud": {},
  "kernelspec": {
   "display_name": "Python 3",
   "language": "python",
   "name": "python3"
  },
  "language_info": {
   "codemirror_mode": {
    "name": "ipython",
    "version": 3
   },
   "file_extension": ".py",
   "mimetype": "text/x-python",
   "name": "python",
   "nbconvert_exporter": "python",
   "pygments_lexer": "ipython3",
   "version": "3.6.0"
  }
 },
 "nbformat": 4,
 "nbformat_minor": 1
}
